{
 "cells": [
  {
   "cell_type": "code",
   "execution_count": null,
   "metadata": {},
   "outputs": [],
   "source": [
    "#  Binance Futures Testnet Trading Bot\n",
    "\n",
    "**Candidate:** Ujjawal Jha  \n",
    "**Role:** Junior Python Developer  \n",
    "**Email:** ujjawaljha84@example.com  \n",
    "**GitHub:** https://github.com/Ujjawaljha84/-binance-trading-bot-.git \n",
    "**Phone:** +918285713434\n",
    "\n",
    "##  About\n",
    "\n",
    "This is a simplified crypto trading bot built for the Binance Futures Testnet as part of the hiring assignment. It allows placing **market** and **limit** buy/sell orders using the official `python-binance` API. \n",
    "\n",
    "All actions and errors are logged to `bot.log`.\n",
    "\n",
    " Features:\n",
    "- Supports MARKET and LIMIT orders\n",
    "- Command-line-free Jupyter Notebook\n",
    "- Binance Futures USDT-M Testnet support\n",
    "- Basic logging\n",
    "\n",
    "* See log output at the end of the notebook.\n"
   ]
  },
  {
   "cell_type": "code",
   "execution_count": 2,
   "metadata": {},
   "outputs": [
    {
     "name": "stdout",
     "output_type": "stream",
     "text": [
      "Requirement already satisfied: python-binance in d:\\anaconda\\lib\\site-packages (1.0.29)\n",
      "Requirement already satisfied: requests in d:\\anaconda\\lib\\site-packages (from python-binance) (2.32.3)\n",
      "Requirement already satisfied: six in d:\\anaconda\\lib\\site-packages (from python-binance) (1.17.0)\n",
      "Requirement already satisfied: dateparser in d:\\anaconda\\lib\\site-packages (from python-binance) (1.2.2)\n",
      "Requirement already satisfied: aiohttp in d:\\anaconda\\lib\\site-packages (from python-binance) (3.11.10)\n",
      "Requirement already satisfied: websockets in d:\\anaconda\\lib\\site-packages (from python-binance) (15.0.1)\n",
      "Requirement already satisfied: pycryptodome in d:\\anaconda\\lib\\site-packages (from python-binance) (3.23.0)\n",
      "Requirement already satisfied: aiohappyeyeballs>=2.3.0 in d:\\anaconda\\lib\\site-packages (from aiohttp->python-binance) (2.4.4)\n",
      "Requirement already satisfied: aiosignal>=1.1.2 in d:\\anaconda\\lib\\site-packages (from aiohttp->python-binance) (1.2.0)\n",
      "Requirement already satisfied: attrs>=17.3.0 in d:\\anaconda\\lib\\site-packages (from aiohttp->python-binance) (24.3.0)\n",
      "Requirement already satisfied: frozenlist>=1.1.1 in d:\\anaconda\\lib\\site-packages (from aiohttp->python-binance) (1.5.0)\n",
      "Requirement already satisfied: multidict<7.0,>=4.5 in d:\\anaconda\\lib\\site-packages (from aiohttp->python-binance) (6.1.0)\n",
      "Requirement already satisfied: propcache>=0.2.0 in d:\\anaconda\\lib\\site-packages (from aiohttp->python-binance) (0.3.1)\n",
      "Requirement already satisfied: yarl<2.0,>=1.17.0 in d:\\anaconda\\lib\\site-packages (from aiohttp->python-binance) (1.18.0)\n",
      "Requirement already satisfied: idna>=2.0 in d:\\anaconda\\lib\\site-packages (from yarl<2.0,>=1.17.0->aiohttp->python-binance) (3.7)\n",
      "Requirement already satisfied: python-dateutil>=2.7.0 in d:\\anaconda\\lib\\site-packages (from dateparser->python-binance) (2.9.0.post0)\n",
      "Requirement already satisfied: pytz>=2024.2 in d:\\anaconda\\lib\\site-packages (from dateparser->python-binance) (2025.2)\n",
      "Requirement already satisfied: regex>=2024.9.11 in d:\\anaconda\\lib\\site-packages (from dateparser->python-binance) (2024.11.6)\n",
      "Requirement already satisfied: tzlocal>=0.2 in d:\\anaconda\\lib\\site-packages (from dateparser->python-binance) (5.3.1)\n",
      "Requirement already satisfied: tzdata in d:\\anaconda\\lib\\site-packages (from tzlocal>=0.2->dateparser->python-binance) (2025.2)\n",
      "Requirement already satisfied: charset-normalizer<4,>=2 in d:\\anaconda\\lib\\site-packages (from requests->python-binance) (3.3.2)\n",
      "Requirement already satisfied: urllib3<3,>=1.21.1 in d:\\anaconda\\lib\\site-packages (from requests->python-binance) (2.3.0)\n",
      "Requirement already satisfied: certifi>=2017.4.17 in d:\\anaconda\\lib\\site-packages (from requests->python-binance) (2025.4.26)\n"
     ]
    }
   ],
   "source": [
    "!pip install python-binance"
   ]
  },
  {
   "cell_type": "code",
   "execution_count": 3,
   "metadata": {},
   "outputs": [],
   "source": [
    "from binance.client import Client\n",
    "import logging\n",
    "\n",
    "# Configure logging to show in notebook\n",
    "logging.basicConfig(\n",
    "    filename='bot.log',\n",
    "    level=logging.INFO,\n",
    "    format='%(asctime)s - %(levelname)s - %(message)s'\n",
    ")\n",
    "\n",
    "class BasicBot:\n",
    "    def __init__(self, api_key, api_secret, testnet=True):\n",
    "        self.client = Client(api_key, api_secret)\n",
    "\n",
    "        if testnet:\n",
    "            self.client.FUTURES_URL = 'https://testnet.binancefuture.com/fapi'\n",
    "\n",
    "        try:\n",
    "            self.client.ping()\n",
    "            logging.info(\"✅ Connected to Binance Testnet.\")\n",
    "            print(\"✅ Connected to Binance Testnet.\")\n",
    "        except Exception as e:\n",
    "            logging.error(f\"Connection error: {e}\")\n",
    "            raise\n",
    "\n",
    "    def place_order(self, symbol, side, order_type, quantity, price=None):\n",
    "        try:\n",
    "            if order_type == \"MARKET\":\n",
    "                order = self.client.futures_create_order(\n",
    "                    symbol=symbol,\n",
    "                    side=side,\n",
    "                    type=\"MARKET\",\n",
    "                    quantity=quantity\n",
    "                )\n",
    "            elif order_type == \"LIMIT\":\n",
    "                order = self.client.futures_create_order(\n",
    "                    symbol=symbol,\n",
    "                    side=side,\n",
    "                    type=\"LIMIT\",\n",
    "                    timeInForce=\"GTC\",\n",
    "                    quantity=quantity,\n",
    "                    price=price\n",
    "                )\n",
    "            else:\n",
    "                raise ValueError(\"Unsupported order type.\")\n",
    "\n",
    "            logging.info(f\"✅ Order placed: {order}\")\n",
    "            return order\n",
    "        except Exception as e:\n",
    "            logging.error(f\"❌ Error placing order: {e}\")\n",
    "            return {\"error\": str(e)}"
   ]
  },
  {
   "cell_type": "code",
   "execution_count": 4,
   "metadata": {},
   "outputs": [
    {
     "name": "stdout",
     "output_type": "stream",
     "text": [
      "✅ Connected to Binance Testnet.\n"
     ]
    }
   ],
   "source": [
    "# Replace with your testnet API keys\n",
    "api_key = \"your_api_key_here\"\n",
    "api_secret = \"your_api_secret_here\"\n",
    "\n",
    "# Create bot instance\n",
    "bot = BasicBot(api_key, api_secret)"
   ]
  },
  {
   "cell_type": "code",
   "execution_count": 5,
   "metadata": {},
   "outputs": [
    {
     "data": {
      "text/plain": [
       "{'error': 'APIError(code=-2014): API-key format invalid.'}"
      ]
     },
     "execution_count": 5,
     "metadata": {},
     "output_type": "execute_result"
    }
   ],
   "source": [
    "# ✅ Input order details\n",
    "symbol = \"BTCUSDT\"\n",
    "side = \"BUY\"        # or \"SELL\"\n",
    "order_type = \"MARKET\"   # or \"LIMIT\"\n",
    "quantity = 0.01     # example quantity\n",
    "price = None        # only used for LIMIT orders\n",
    "\n",
    "# If LIMIT order, set a price\n",
    "if order_type == \"LIMIT\":\n",
    "    price = 58000  # example price\n",
    "\n",
    "# ✅ Place order\n",
    "response = bot.place_order(symbol, side, order_type, quantity, price)\n",
    "response"
   ]
  },
  {
   "cell_type": "code",
   "execution_count": 6,
   "metadata": {},
   "outputs": [
    {
     "name": "stdout",
     "output_type": "stream",
     "text": [
      "2025-07-08 12:23:48,689 - INFO - \\u2705 Connected to Binance Testnet.\n",
      "2025-07-08 12:23:52,838 - ERROR - \\u274c Error placing order: APIError(code=-2014): API-key format invalid.\n",
      "\n"
     ]
    }
   ],
   "source": [
    "# Read the log file for all actions\n",
    "with open('bot.log', 'r') as f:\n",
    "    print(f.read())"
   ]
  },
  {
   "cell_type": "code",
   "execution_count": null,
   "metadata": {},
   "outputs": [],
   "source": []
  }
 ],
 "metadata": {
  "kernelspec": {
   "display_name": "Python 3 (ipykernel)",
   "language": "python",
   "name": "python3"
  },
  "language_info": {
   "codemirror_mode": {
    "name": "ipython",
    "version": 3
   },
   "file_extension": ".py",
   "mimetype": "text/x-python",
   "name": "python",
   "nbconvert_exporter": "python",
   "pygments_lexer": "ipython3",
   "version": "3.13.5"
  }
 },
 "nbformat": 4,
 "nbformat_minor": 4
}
